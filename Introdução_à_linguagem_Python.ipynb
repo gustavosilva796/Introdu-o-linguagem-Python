{
  "nbformat": 4,
  "nbformat_minor": 0,
  "metadata": {
    "colab": {
      "provenance": [],
      "authorship_tag": "ABX9TyP9p3hlMF5lpmPaqihcxVwU",
      "include_colab_link": true
    },
    "kernelspec": {
      "name": "python3",
      "display_name": "Python 3"
    },
    "language_info": {
      "name": "python"
    }
  },
  "cells": [
    {
      "cell_type": "markdown",
      "metadata": {
        "id": "view-in-github",
        "colab_type": "text"
      },
      "source": [
        "<a href=\"https://colab.research.google.com/github/gustavosilva796/Introdu-o-linguagem-Python/blob/main/Introdu%C3%A7%C3%A3o_%C3%A0_linguagem_Python.ipynb\" target=\"_parent\"><img src=\"https://colab.research.google.com/assets/colab-badge.svg\" alt=\"Open In Colab\"/></a>"
      ]
    },
    {
      "cell_type": "markdown",
      "source": [
        "Estruturas Concicionais"
      ],
      "metadata": {
        "id": "Dppk8lbG3Cz4"
      }
    },
    {
      "cell_type": "code",
      "execution_count": 2,
      "metadata": {
        "colab": {
          "base_uri": "https://localhost:8080/"
        },
        "id": "VcyQXDjb25QT",
        "outputId": "aa77f3d4-4fbd-4170-e49f-1c5b1d6758ef"
      },
      "outputs": [
        {
          "output_type": "stream",
          "name": "stdout",
          "text": [
            "y é maior que x\n"
          ]
        }
      ],
      "source": [
        "x = 1\n",
        "y = 1000\n",
        "\n",
        "if x > y:\n",
        "  print('x é maior que y')\n",
        "\n",
        "if y > x:\n",
        "  print('y é maior que x')"
      ]
    },
    {
      "cell_type": "markdown",
      "source": [
        "13. Estruturas condicionais (comando else)"
      ],
      "metadata": {
        "id": "NmY8XIPI5705"
      }
    },
    {
      "cell_type": "code",
      "source": [
        "x = 1\n",
        "y = 2\n",
        "\n",
        "if x > y:\n",
        "  print('x é maior que y')\n",
        "else:\n",
        "  print('x não é maior que y')"
      ],
      "metadata": {
        "colab": {
          "base_uri": "https://localhost:8080/"
        },
        "id": "Ug-mYqwQ59Rw",
        "outputId": "705c4b13-ab46-477f-aac6-47c66efc4649"
      },
      "execution_count": 8,
      "outputs": [
        {
          "output_type": "stream",
          "name": "stdout",
          "text": [
            "x não é maior que y\n"
          ]
        }
      ]
    },
    {
      "cell_type": "markdown",
      "source": [
        "14. Estruturas condicionais (comando elif)"
      ],
      "metadata": {
        "id": "lRfYZ6NL6ieJ"
      }
    },
    {
      "cell_type": "code",
      "source": [
        "x = 2\n",
        "y = 2\n",
        "\n",
        "if x > y:\n",
        "  print('x é maior que y')\n",
        "elif x == y:\n",
        "  print('x é igual a y')\n",
        "else:\n",
        "  print('x é menor que y')"
      ],
      "metadata": {
        "colab": {
          "base_uri": "https://localhost:8080/"
        },
        "id": "SEUlV-OC6jt1",
        "outputId": "15d1df72-6340-4f41-e87c-66a2c4231a4c"
      },
      "execution_count": 10,
      "outputs": [
        {
          "output_type": "stream",
          "name": "stdout",
          "text": [
            "x é igual a y\n"
          ]
        }
      ]
    },
    {
      "cell_type": "markdown",
      "source": [
        "15. Estruturas de repetição (comando while)"
      ],
      "metadata": {
        "id": "JYmD5zWG846d"
      }
    },
    {
      "cell_type": "code",
      "source": [
        "x = 1\n",
        "\n",
        "while x < 10:\n",
        "  print(x)\n",
        "  x += 1"
      ],
      "metadata": {
        "colab": {
          "base_uri": "https://localhost:8080/"
        },
        "id": "xgr0CLb585uo",
        "outputId": "92f71fd0-75d9-4e91-afeb-7d23f7afe79a"
      },
      "execution_count": 11,
      "outputs": [
        {
          "output_type": "stream",
          "name": "stdout",
          "text": [
            "1\n",
            "2\n",
            "3\n",
            "4\n",
            "5\n",
            "6\n",
            "7\n",
            "8\n",
            "9\n"
          ]
        }
      ]
    },
    {
      "cell_type": "markdown",
      "source": [
        "16. Estruturas de repetição (comando for)"
      ],
      "metadata": {
        "id": "cW7vRtjS-7fb"
      }
    },
    {
      "cell_type": "code",
      "source": [
        "lista1 = (1,2,3,4,5)\n",
        "lista2 = (\"Olá\",'Mundo',\"!\")\n",
        "lista3 = (1,\"biscoito\",\"bolacha\",9.99,True)\n",
        "\n",
        "for i in lista3:\n",
        "  print(i)"
      ],
      "metadata": {
        "colab": {
          "base_uri": "https://localhost:8080/"
        },
        "id": "8nmyfwPd-9Aq",
        "outputId": "4b19c613-4de6-4992-d18b-079a3e63e8ed"
      },
      "execution_count": 12,
      "outputs": [
        {
          "output_type": "stream",
          "name": "stdout",
          "text": [
            "1\n",
            "biscoito\n",
            "bolacha\n",
            "9.99\n",
            "True\n"
          ]
        }
      ]
    },
    {
      "cell_type": "markdown",
      "source": [
        "**17. Estruturas de repetição (comandos for e range)**"
      ],
      "metadata": {
        "id": "E1KnExY5AopA"
      }
    },
    {
      "cell_type": "markdown",
      "source": [
        "A função range() retorna uma sequência de números, começando em 0 por padrão, e incrementa em 1 (por padrão) e termina em um número especificado."
      ],
      "metadata": {
        "id": "XTA2NeR1Cez0"
      }
    },
    {
      "cell_type": "code",
      "source": [
        "for x in range(6):\n",
        "  print(x)"
      ],
      "metadata": {
        "colab": {
          "base_uri": "https://localhost:8080/"
        },
        "id": "gla9OSU9AuLW",
        "outputId": "cbd4ddaf-b2b6-46bd-b78d-0e4e301cc3af"
      },
      "execution_count": 15,
      "outputs": [
        {
          "output_type": "stream",
          "name": "stdout",
          "text": [
            "0\n",
            "1\n",
            "2\n",
            "3\n",
            "4\n",
            "5\n"
          ]
        }
      ]
    },
    {
      "cell_type": "markdown",
      "source": [
        "O padrão da função range() é 0 como um valor inicial, no entanto, é possível especificar o valor inicial adicionando um parâmetro"
      ],
      "metadata": {
        "id": "JshyqfE1Cos-"
      }
    },
    {
      "cell_type": "code",
      "source": [
        "for x in range(2, 6):\n",
        "  print(x)"
      ],
      "metadata": {
        "colab": {
          "base_uri": "https://localhost:8080/"
        },
        "id": "vleUyhhBBZq-",
        "outputId": "5eb2522d-9aaa-44f0-e956-dfec5e1e637c"
      },
      "execution_count": 16,
      "outputs": [
        {
          "output_type": "stream",
          "name": "stdout",
          "text": [
            "2\n",
            "3\n",
            "4\n",
            "5\n"
          ]
        }
      ]
    },
    {
      "cell_type": "markdown",
      "source": [
        "O padrão da função range() é incrementar a sequência em 1, no entanto, é possível especificar o valor do incremento adicionando um terceiro parâmetro: range(2, 30, 3):"
      ],
      "metadata": {
        "id": "TZJ0zQwDCub-"
      }
    },
    {
      "cell_type": "code",
      "source": [
        "for x in range(2, 30, 3):\n",
        "  print(x)"
      ],
      "metadata": {
        "colab": {
          "base_uri": "https://localhost:8080/"
        },
        "id": "byKvyMwcBhFu",
        "outputId": "e023884f-b6a0-4eee-8861-27bd9c271ae5"
      },
      "execution_count": 17,
      "outputs": [
        {
          "output_type": "stream",
          "name": "stdout",
          "text": [
            "2\n",
            "5\n",
            "8\n",
            "11\n",
            "14\n",
            "17\n",
            "20\n",
            "23\n",
            "26\n",
            "29\n"
          ]
        }
      ]
    },
    {
      "cell_type": "markdown",
      "source": [
        "**19. Strings parte 1**"
      ],
      "metadata": {
        "id": "Y2a-d5qAEOj6"
      }
    },
    {
      "cell_type": "code",
      "source": [
        "a = \"Caetano\"\n",
        "b = \"Silva\"\n",
        "\n",
        "concatenar = a + \" \" + b\n",
        "print(concatenar)"
      ],
      "metadata": {
        "colab": {
          "base_uri": "https://localhost:8080/"
        },
        "id": "PCBTgC7dESOg",
        "outputId": "ff7a0f51-fd91-418d-8fec-34477dd07717"
      },
      "execution_count": 19,
      "outputs": [
        {
          "output_type": "stream",
          "name": "stdout",
          "text": [
            "Caetano Silva\n"
          ]
        }
      ]
    },
    {
      "cell_type": "code",
      "source": [
        "seq = \"ADAFAÇAKFÇAKLMFÇAFMÇAFMKAÇFMAÇL\"\n",
        "print (len(seq))"
      ],
      "metadata": {
        "colab": {
          "base_uri": "https://localhost:8080/"
        },
        "id": "aTRKT8PYE6cy",
        "outputId": "a2491864-65a4-4342-d090-e19bc7022f8f"
      },
      "execution_count": 21,
      "outputs": [
        {
          "output_type": "stream",
          "name": "stdout",
          "text": [
            "31\n"
          ]
        }
      ]
    },
    {
      "cell_type": "code",
      "source": [
        "a = \"Gustavo\"\n",
        "print(a[2])"
      ],
      "metadata": {
        "colab": {
          "base_uri": "https://localhost:8080/"
        },
        "id": "ZHL8oB0HFg49",
        "outputId": "777fa4a1-fef9-4331-dfaf-b8bd1780f019"
      },
      "execution_count": 22,
      "outputs": [
        {
          "output_type": "stream",
          "name": "stdout",
          "text": [
            "s\n"
          ]
        }
      ]
    },
    {
      "cell_type": "code",
      "source": [
        "a = \"Rio Verde\"\n",
        "print(a[2:7])"
      ],
      "metadata": {
        "colab": {
          "base_uri": "https://localhost:8080/"
        },
        "id": "Xkb212f3GKnW",
        "outputId": "80be426a-551a-4aa7-d1ff-e6af17262a66"
      },
      "execution_count": 24,
      "outputs": [
        {
          "output_type": "stream",
          "name": "stdout",
          "text": [
            "o Ver\n"
          ]
        }
      ]
    },
    {
      "cell_type": "code",
      "source": [
        "a = \"Ricardo\"\n",
        "print(a.lower())\n",
        "print(a.upper())"
      ],
      "metadata": {
        "colab": {
          "base_uri": "https://localhost:8080/"
        },
        "id": "gbDz7PJRHYfv",
        "outputId": "44b67e31-0044-4ecb-c589-6da62461bf2b"
      },
      "execution_count": 26,
      "outputs": [
        {
          "output_type": "stream",
          "name": "stdout",
          "text": [
            "ricardo\n",
            "RICARDO\n"
          ]
        }
      ]
    },
    {
      "cell_type": "code",
      "source": [
        "a = \"        Janeiro     \"\n",
        "print(a.strip())"
      ],
      "metadata": {
        "colab": {
          "base_uri": "https://localhost:8080/"
        },
        "id": "eCo2mVcjIBS2",
        "outputId": "432ccb33-a79f-46bc-9597-d09cd8970c44"
      },
      "execution_count": 27,
      "outputs": [
        {
          "output_type": "stream",
          "name": "stdout",
          "text": [
            "Janeiro\n"
          ]
        }
      ]
    },
    {
      "cell_type": "code",
      "source": [
        "string = \"O rato roeu a roupa do rei de Roma\"\n",
        "print(string.split())"
      ],
      "metadata": {
        "colab": {
          "base_uri": "https://localhost:8080/"
        },
        "id": "5X7jleKqILYx",
        "outputId": "ceb5b187-0d94-4920-ebb7-6e45a0239739"
      },
      "execution_count": 28,
      "outputs": [
        {
          "output_type": "stream",
          "name": "stdout",
          "text": [
            "['O', 'rato', 'roeu', 'a', 'roupa', 'do', 'rei', 'de', 'Roma']\n"
          ]
        }
      ]
    },
    {
      "cell_type": "code",
      "source": [
        "string = \"O rato roeu a roupa do rei de Roma\"\n",
        "print(string.find(\"rei\"))"
      ],
      "metadata": {
        "colab": {
          "base_uri": "https://localhost:8080/"
        },
        "id": "aELOBypSK4UZ",
        "outputId": "90e6c266-cb10-4397-d400-5b4f45597807"
      },
      "execution_count": 29,
      "outputs": [
        {
          "output_type": "stream",
          "name": "stdout",
          "text": [
            "23\n"
          ]
        }
      ]
    },
    {
      "cell_type": "code",
      "source": [
        "string = \"O rato roeu a roupa do rei de Roma\"\n",
        "print(string.replace(\"rei\",\"Imperador\"))"
      ],
      "metadata": {
        "colab": {
          "base_uri": "https://localhost:8080/"
        },
        "id": "vEqHLzi9K8Y2",
        "outputId": "5aa9dd5c-4319-4e39-c71f-86aed7c04727"
      },
      "execution_count": 1,
      "outputs": [
        {
          "output_type": "stream",
          "name": "stdout",
          "text": [
            "O rato roeu a roupa do Imperador de Roma\n"
          ]
        }
      ]
    },
    {
      "cell_type": "markdown",
      "source": [
        "**21. Funções**"
      ],
      "metadata": {
        "id": "fDHerhwZCv8j"
      }
    },
    {
      "cell_type": "code",
      "source": [
        "def soma(x, y):\n",
        "  print(x+y)\n",
        "\n",
        "soma(3, 2)"
      ],
      "metadata": {
        "colab": {
          "base_uri": "https://localhost:8080/"
        },
        "id": "-JdSB6eJCxkW",
        "outputId": "d0cc0187-4124-4b19-f2db-22985c12a698"
      },
      "execution_count": 2,
      "outputs": [
        {
          "output_type": "stream",
          "name": "stdout",
          "text": [
            "5\n"
          ]
        }
      ]
    },
    {
      "cell_type": "code",
      "source": [
        "def soma(x,y):\n",
        "  return x+y\n",
        "\n",
        "s = soma(2, 3)\n",
        "print(s)"
      ],
      "metadata": {
        "colab": {
          "base_uri": "https://localhost:8080/"
        },
        "id": "P9bVZFaaHvI2",
        "outputId": "7cc8a188-29a6-444d-9bc1-05fb5735af4e"
      },
      "execution_count": 3,
      "outputs": [
        {
          "output_type": "stream",
          "name": "stdout",
          "text": [
            "5\n"
          ]
        }
      ]
    },
    {
      "cell_type": "code",
      "source": [
        "def soma(x,y):\n",
        "  return x+y\n",
        "\n",
        "def multiplica(x, y):\n",
        "  return x*y\n",
        "\n",
        "s = soma(2,3)\n",
        "m = multiplica(3,4)\n",
        "\n",
        "print(soma(s,m))"
      ],
      "metadata": {
        "colab": {
          "base_uri": "https://localhost:8080/"
        },
        "id": "l2x7a4U5J2iF",
        "outputId": "e3d34178-c87e-4261-e45b-4a7505a3639b"
      },
      "execution_count": 4,
      "outputs": [
        {
          "output_type": "stream",
          "name": "stdout",
          "text": [
            "17\n"
          ]
        }
      ]
    },
    {
      "cell_type": "markdown",
      "source": [
        "**22. Arquivos**"
      ],
      "metadata": {
        "id": "MFngFLUIM2F9"
      }
    },
    {
      "cell_type": "code",
      "source": [
        "w = open(\"arquivo2.txt\", \"w\")\n",
        "\n",
        "w.write(\"Esse é o meu arquivo\")\n",
        "\n",
        "w.close()"
      ],
      "metadata": {
        "id": "eS_wS24JLkkq"
      },
      "execution_count": 8,
      "outputs": []
    },
    {
      "cell_type": "code",
      "source": [
        "w = open(\"arquivo2.txt\", \"a\")\n",
        "\n",
        "w.write(\"Esse é o meu arquivo\\n\")\n",
        "\n",
        "w.close()"
      ],
      "metadata": {
        "id": "Jd4ayfCfMiFc"
      },
      "execution_count": 12,
      "outputs": []
    },
    {
      "cell_type": "markdown",
      "source": [
        "**23. Listas parte 1**"
      ],
      "metadata": {
        "id": "Mdfp7pPsM4Bg"
      }
    },
    {
      "cell_type": "code",
      "source": [
        "minha_lista = [\"abacaxi\", \"melancia\", \"abacate\"]\n",
        "minha_lista2 = [1,2,3,4,5]\n",
        "minha_lista3 = [\"uva\", 2, 3.99, True]\n",
        "\n",
        "print(minha_lista3)\n",
        "print(minha_lista[2])\n",
        "\n",
        "for item in minha_lista:\n",
        "  print(item)"
      ],
      "metadata": {
        "colab": {
          "base_uri": "https://localhost:8080/"
        },
        "id": "YC_lDn9RM6qJ",
        "outputId": "5623de90-4776-4b32-921c-a9685e66e962"
      },
      "execution_count": 16,
      "outputs": [
        {
          "output_type": "stream",
          "name": "stdout",
          "text": [
            "['uva', 2, 3.99, True]\n",
            "abacate\n",
            "abacaxi\n",
            "melancia\n",
            "abacate\n"
          ]
        }
      ]
    },
    {
      "cell_type": "code",
      "source": [
        "tamanho = len(minha_lista)\n",
        "print(tamanho)"
      ],
      "metadata": {
        "colab": {
          "base_uri": "https://localhost:8080/"
        },
        "id": "CaV4YQ71QluK",
        "outputId": "bf4eb178-7b65-4352-e5cf-9d78da119632"
      },
      "execution_count": 17,
      "outputs": [
        {
          "output_type": "stream",
          "name": "stdout",
          "text": [
            "3\n"
          ]
        }
      ]
    },
    {
      "cell_type": "code",
      "source": [
        "minha_lista.append(\"limão\")\n",
        "print(minha_lista)"
      ],
      "metadata": {
        "colab": {
          "base_uri": "https://localhost:8080/"
        },
        "id": "DLzpuhE1VFhb",
        "outputId": "cad7bee4-9573-4f62-ea6b-87525b712793"
      },
      "execution_count": 18,
      "outputs": [
        {
          "output_type": "stream",
          "name": "stdout",
          "text": [
            "['abacaxi', 'melancia', 'abacate', 'limão']\n"
          ]
        }
      ]
    },
    {
      "cell_type": "code",
      "source": [
        "if 3 in minha_lista2:\n",
        "  print(\"3 está na lista\")"
      ],
      "metadata": {
        "colab": {
          "base_uri": "https://localhost:8080/"
        },
        "id": "fXOCpTKKWpQh",
        "outputId": "1f5a4072-6bcb-4859-9824-93dd92862c0e"
      },
      "execution_count": 19,
      "outputs": [
        {
          "output_type": "stream",
          "name": "stdout",
          "text": [
            "3 está na lista\n"
          ]
        }
      ]
    },
    {
      "cell_type": "code",
      "source": [
        "del minha_lista[2:]\n",
        "print(minha_lista)"
      ],
      "metadata": {
        "colab": {
          "base_uri": "https://localhost:8080/"
        },
        "id": "2grTFgR6W9Xy",
        "outputId": "d70816c4-a729-4ed2-e79f-775dcce48ce7"
      },
      "execution_count": 20,
      "outputs": [
        {
          "output_type": "stream",
          "name": "stdout",
          "text": [
            "['abacaxi', 'melancia']\n"
          ]
        }
      ]
    },
    {
      "cell_type": "code",
      "source": [
        "lista = [23,6456,231,676,1,45,87,67,222]\n",
        "lista.sort()\n",
        "\n",
        "print(lista)"
      ],
      "metadata": {
        "colab": {
          "base_uri": "https://localhost:8080/"
        },
        "id": "TiRqDnMuYZXM",
        "outputId": "d5a3ec31-71d5-4b56-f4f9-078a56e37c4e"
      },
      "execution_count": 21,
      "outputs": [
        {
          "output_type": "stream",
          "name": "stdout",
          "text": [
            "[1, 23, 45, 67, 87, 222, 231, 676, 6456]\n"
          ]
        }
      ]
    },
    {
      "cell_type": "code",
      "source": [
        "lista = [23,6456,231,676,1,45,87,67,222]\n",
        "lista = sorted(lista)\n",
        "\n",
        "print(lista)"
      ],
      "metadata": {
        "colab": {
          "base_uri": "https://localhost:8080/"
        },
        "id": "9w4g3ZjcY8WU",
        "outputId": "8becaa4e-2999-4045-c8ed-9ccb760992e3"
      },
      "execution_count": 23,
      "outputs": [
        {
          "output_type": "stream",
          "name": "stdout",
          "text": [
            "[1, 23, 45, 67, 87, 222, 231, 676, 6456]\n"
          ]
        }
      ]
    },
    {
      "cell_type": "code",
      "source": [
        "lista = [23,6456,231,676,1,45,87,67,222]\n",
        "lista.sort(reverse=True)\n",
        "\n",
        "print(lista)"
      ],
      "metadata": {
        "colab": {
          "base_uri": "https://localhost:8080/"
        },
        "id": "xA29TUvDZQoV",
        "outputId": "c4c8f060-0001-4f0b-b8a9-da03be76fe89"
      },
      "execution_count": 24,
      "outputs": [
        {
          "output_type": "stream",
          "name": "stdout",
          "text": [
            "[6456, 676, 231, 222, 87, 67, 45, 23, 1]\n"
          ]
        }
      ]
    },
    {
      "cell_type": "code",
      "source": [
        "lista = [6456, 676, 231, 222, 87, 67, 45, 23, 1]\n",
        "lista.reverse()\n",
        "\n",
        "print(lista)"
      ],
      "metadata": {
        "colab": {
          "base_uri": "https://localhost:8080/"
        },
        "id": "5g17jdnsZhoS",
        "outputId": "925284b2-4ec8-4718-d80a-57226fe1a13f"
      },
      "execution_count": 25,
      "outputs": [
        {
          "output_type": "stream",
          "name": "stdout",
          "text": [
            "[1, 23, 45, 67, 87, 222, 231, 676, 6456]\n"
          ]
        }
      ]
    },
    {
      "cell_type": "markdown",
      "source": [
        "**26. Dicionários**"
      ],
      "metadata": {
        "id": "H2C9xVI4a6gA"
      }
    },
    {
      "cell_type": "code",
      "source": [
        "meu_dicionario = {\"A\": \"Ameixa\", \"B\":\"Bola\", \"C\":\"Casa\"}\n",
        "\n",
        "for chave in meu_dicionario:\n",
        "  print(meu_dicionario[chave])"
      ],
      "metadata": {
        "colab": {
          "base_uri": "https://localhost:8080/"
        },
        "id": "92Ww3LXla9hh",
        "outputId": "3e6ab146-60e4-4b60-e6c4-33c4d1217ca0"
      },
      "execution_count": 29,
      "outputs": [
        {
          "output_type": "stream",
          "name": "stdout",
          "text": [
            "Ameixa\n",
            "Bola\n",
            "Casa\n"
          ]
        }
      ]
    },
    {
      "cell_type": "code",
      "source": [
        "meu_dicionario = {\"A\": \"Ameixa\", \"B\":\"Bola\", \"C\":\"Casa\"}\n",
        "\n",
        "for chave in meu_dicionario:\n",
        "  print(chave+\":\"+meu_dicionario[chave])"
      ],
      "metadata": {
        "colab": {
          "base_uri": "https://localhost:8080/"
        },
        "id": "VPRcGC5jb0Vg",
        "outputId": "a1be6668-eb68-4244-a7c5-5a81cd67f33b"
      },
      "execution_count": 30,
      "outputs": [
        {
          "output_type": "stream",
          "name": "stdout",
          "text": [
            "A:Ameixa\n",
            "B:Bola\n",
            "C:Casa\n"
          ]
        }
      ]
    },
    {
      "cell_type": "code",
      "source": [
        "meu_dicionario = {\"A\": \"Ameixa\", \"B\":\"Bola\", \"C\":\"Casa\"}\n",
        "\n",
        "for i in meu_dicionario.items():\n",
        "  print(i)"
      ],
      "metadata": {
        "colab": {
          "base_uri": "https://localhost:8080/"
        },
        "id": "y7pAFNyscGAJ",
        "outputId": "fa46a906-da27-4b30-98d4-f6cb434b683b"
      },
      "execution_count": 32,
      "outputs": [
        {
          "output_type": "stream",
          "name": "stdout",
          "text": [
            "('A', 'Ameixa')\n",
            "('B', 'Bola')\n",
            "('C', 'Casa')\n"
          ]
        }
      ]
    },
    {
      "cell_type": "code",
      "source": [
        "meu_dicionario = {\"A\": \"Ameixa\", \"B\":\"Bola\", \"C\":\"Casa\"}\n",
        "\n",
        "for i in meu_dicionario.values():\n",
        "  print(i)"
      ],
      "metadata": {
        "colab": {
          "base_uri": "https://localhost:8080/"
        },
        "id": "4lpUJi_Kc_t7",
        "outputId": "c5679fa2-a056-4bac-d0e3-a0277a60ac99"
      },
      "execution_count": 33,
      "outputs": [
        {
          "output_type": "stream",
          "name": "stdout",
          "text": [
            "Ameixa\n",
            "Bola\n",
            "Casa\n"
          ]
        }
      ]
    },
    {
      "cell_type": "markdown",
      "source": [
        "**27. Números aleatórios**"
      ],
      "metadata": {
        "id": "tj1MTKdmdXBr"
      }
    },
    {
      "cell_type": "code",
      "source": [
        "import random"
      ],
      "metadata": {
        "id": "AngG0EjpdYI5"
      },
      "execution_count": 34,
      "outputs": []
    },
    {
      "cell_type": "code",
      "source": [
        "numero = random.randint(0,10)\n",
        "print(numero)"
      ],
      "metadata": {
        "colab": {
          "base_uri": "https://localhost:8080/"
        },
        "id": "E8Q1XX0eeM2f",
        "outputId": "3af5e38c-4f63-4d43-ad46-61d17baa3e86"
      },
      "execution_count": 39,
      "outputs": [
        {
          "output_type": "stream",
          "name": "stdout",
          "text": [
            "8\n"
          ]
        }
      ]
    },
    {
      "cell_type": "code",
      "source": [
        "random.seed()\n",
        "numero = random.randint(0,10)\n",
        "print(numero)"
      ],
      "metadata": {
        "id": "fI-5e04OeWQG"
      },
      "execution_count": null,
      "outputs": []
    },
    {
      "cell_type": "code",
      "source": [
        "lista = [23,45,67]\n",
        "\n",
        "numero = random.choice(lista)\n",
        "print(numero)"
      ],
      "metadata": {
        "colab": {
          "base_uri": "https://localhost:8080/"
        },
        "id": "BbVHPjXWerJw",
        "outputId": "b50e0acd-4a52-4715-d408-b8bf5ca38573"
      },
      "execution_count": 43,
      "outputs": [
        {
          "output_type": "stream",
          "name": "stdout",
          "text": [
            "23\n"
          ]
        }
      ]
    },
    {
      "cell_type": "markdown",
      "source": [
        "**28. Tratamento de exceções**"
      ],
      "metadata": {
        "id": "xl6LA6DYVeSG"
      }
    },
    {
      "cell_type": "code",
      "source": [
        "a = 2\n",
        "b = 0\n",
        "\n",
        "print(a/b)"
      ],
      "metadata": {
        "colab": {
          "base_uri": "https://localhost:8080/",
          "height": 176
        },
        "id": "TL0rOqMqVxiv",
        "outputId": "6fa18f73-8991-4bdb-853d-e03411a37d09"
      },
      "execution_count": 2,
      "outputs": [
        {
          "output_type": "error",
          "ename": "ZeroDivisionError",
          "evalue": "division by zero",
          "traceback": [
            "\u001b[0;31m---------------------------------------------------------------------------\u001b[0m",
            "\u001b[0;31mZeroDivisionError\u001b[0m                         Traceback (most recent call last)",
            "\u001b[0;32m<ipython-input-2-812b78bd4201>\u001b[0m in \u001b[0;36m<cell line: 4>\u001b[0;34m()\u001b[0m\n\u001b[1;32m      2\u001b[0m \u001b[0mb\u001b[0m \u001b[0;34m=\u001b[0m \u001b[0;36m0\u001b[0m\u001b[0;34m\u001b[0m\u001b[0;34m\u001b[0m\u001b[0m\n\u001b[1;32m      3\u001b[0m \u001b[0;34m\u001b[0m\u001b[0m\n\u001b[0;32m----> 4\u001b[0;31m \u001b[0mprint\u001b[0m\u001b[0;34m(\u001b[0m\u001b[0ma\u001b[0m\u001b[0;34m/\u001b[0m\u001b[0mb\u001b[0m\u001b[0;34m)\u001b[0m\u001b[0;34m\u001b[0m\u001b[0;34m\u001b[0m\u001b[0m\n\u001b[0m",
            "\u001b[0;31mZeroDivisionError\u001b[0m: division by zero"
          ]
        }
      ]
    },
    {
      "cell_type": "code",
      "source": [
        "a = 2\n",
        "b = 0\n",
        "\n",
        "try:\n",
        "  print(a/b)\n",
        "\n",
        "except:\n",
        "  print(\"Não é permitido divisão por 0\")"
      ],
      "metadata": {
        "colab": {
          "base_uri": "https://localhost:8080/"
        },
        "id": "_rr6R7E3VgPd",
        "outputId": "49a97fbb-023b-442b-d51b-a414ec1e6976"
      },
      "execution_count": 1,
      "outputs": [
        {
          "output_type": "stream",
          "name": "stdout",
          "text": [
            "Não é permitido divisão por 0\n"
          ]
        }
      ]
    },
    {
      "cell_type": "markdown",
      "source": [
        "Faça um programa que receba a idade do usuário e diga se ele é maior ou menor de idade."
      ],
      "metadata": {
        "id": "k-Ia6e9fXwQJ"
      }
    },
    {
      "cell_type": "code",
      "source": [
        "numero_inteiro = int(input(\"Digite um numero inteiro: \"))\n",
        "if numero_inteiro >= 18:\n",
        "  print(\"É maior de idade\")\n",
        "else:\n",
        "  print(\"Menor de idade XD\")"
      ],
      "metadata": {
        "colab": {
          "base_uri": "https://localhost:8080/"
        },
        "id": "ovUXJY4WXVz1",
        "outputId": "c0bbea12-6a9d-48cd-ac62-362b3678ea00"
      },
      "execution_count": 4,
      "outputs": [
        {
          "output_type": "stream",
          "name": "stdout",
          "text": [
            "Digite um numero inteiro: 19\n",
            "É maior de idade\n"
          ]
        }
      ]
    },
    {
      "cell_type": "markdown",
      "source": [
        "Faça um programa que receba duas notas digitadas pelo usuário. Se a nota for maior ou igual a seis, escreva aprovado, senão escreva reprovado.  "
      ],
      "metadata": {
        "id": "267Qns33YNmW"
      }
    },
    {
      "cell_type": "code",
      "source": [
        "nota1 = float(input('Digite a primeira nota: '))\n",
        "nota2 = float(input('Digite a segunda nota: '))\n",
        "media = (nota1 + nota2) / 2\n",
        "if media >= 6:\n",
        "    print('Aprovado')\n",
        "else:\n",
        "    print('Reprovado')\n"
      ],
      "metadata": {
        "colab": {
          "base_uri": "https://localhost:8080/"
        },
        "id": "0EQhy5QfXxyn",
        "outputId": "a2f84310-da03-4d1e-f35c-4734a2e7fc17"
      },
      "execution_count": 5,
      "outputs": [
        {
          "output_type": "stream",
          "name": "stdout",
          "text": [
            "Digite a primeira nota: 6\n",
            "Digite a segunda nota: 8\n",
            "Aprovado\n"
          ]
        }
      ]
    },
    {
      "cell_type": "markdown",
      "source": [
        "Escreva um programa que resolva uma equação de segundo grau.   "
      ],
      "metadata": {
        "id": "04F-IObgYgzP"
      }
    },
    {
      "cell_type": "code",
      "source": [
        "from math import sqrt\n",
        "a = int(input(\"Digite o valor de A: \"))\n",
        "b = int(input(\"Digite o valor de B: \"))\n",
        "c = int(input(\"Digite o valor de C: \"))\n",
        "\n",
        "delta = b**2 - 4*a*c\n",
        "\n",
        "if delta < 0:\n",
        "    print(\"Delta negativo\")\n",
        "else:\n",
        "    raiz_delta = sqrt(delta)\n",
        "    x1 = (-b + raiz_delta)/2*a\n",
        "    x2 = (-b - raiz_delta)/2*a\n",
        "\n",
        "    print(\"As raízes são\", x1, \"e\", x2)"
      ],
      "metadata": {
        "colab": {
          "base_uri": "https://localhost:8080/"
        },
        "id": "En4KxeASZatj",
        "outputId": "56281a2c-ddfb-46a4-e09e-51078066e04b"
      },
      "execution_count": 7,
      "outputs": [
        {
          "output_type": "stream",
          "name": "stdout",
          "text": [
            "Digite o valor de A: 4\n",
            "Digite o valor de B: 1\n",
            "Digite o valor de C: 8\n",
            "Delta negativo\n"
          ]
        }
      ]
    },
    {
      "cell_type": "markdown",
      "source": [
        "Escreva um programa que ordene uma lista numérica com três elementos.   "
      ],
      "metadata": {
        "id": "zu7ul_95YtvK"
      }
    },
    {
      "cell_type": "code",
      "source": [
        "a = int(input(\"Digite um valor numérico aleatório: \"))\n",
        "b = int(input(\"Digite outro valor: \"))\n",
        "c = int(input(\"Digite mais um: \"))\n",
        "lista = [a,b,c]\n",
        "print(sorted(lista))"
      ],
      "metadata": {
        "colab": {
          "base_uri": "https://localhost:8080/"
        },
        "id": "J2_17W-uZsNv",
        "outputId": "491bbc35-2e69-4ac9-bce8-c173deb545a7"
      },
      "execution_count": 8,
      "outputs": [
        {
          "output_type": "stream",
          "name": "stdout",
          "text": [
            "Digite um valor numérico aleatório: 23\n",
            "Digite outro valor: 1\n",
            "Digite mais um: 78\n",
            "[1, 23, 78]\n"
          ]
        }
      ]
    },
    {
      "cell_type": "markdown",
      "source": [
        "Escreva um programa que receba dois números e um sinal, e faça a operação matemática definida pelo sinal."
      ],
      "metadata": {
        "id": "xWf6LYsDYvRW"
      }
    },
    {
      "cell_type": "code",
      "source": [
        "n1 = int(input(\"Digite o primeiro número: \"))\n",
        "sinal = input(\"Digite a operação matemática (+)soma, 8(-)subtração, (*)multiplicação, (/)divisão: \")\n",
        "n2 = int(input(\"Digite o segundo número: \"))\n",
        "\n",
        "if sinal == \"+\":\n",
        "    op = n1 + n2\n",
        "\n",
        "elif sinal == \"-\":\n",
        "    op = n1 - n2\n",
        "\n",
        "elif sinal == \"/\":\n",
        "    op = n1 + n2\n",
        "\n",
        "elif sinal == \"*\":\n",
        "    op = n1 * n2\n",
        "\n",
        "else:\n",
        "    print(\"Sinal inválido.\")\n",
        "\n",
        "print(\"O resultado é: \",op)"
      ],
      "metadata": {
        "colab": {
          "base_uri": "https://localhost:8080/"
        },
        "id": "f3-Jy8HAYoTk",
        "outputId": "d925a122-ad28-40d9-cc7d-0aea23f27c37"
      },
      "execution_count": 13,
      "outputs": [
        {
          "output_type": "stream",
          "name": "stdout",
          "text": [
            "Digite o primeiro número: 9\n",
            "Digite a operação matemática (+)soma, 8(-)subtração, (*)multiplicação, (/)divisão: -\n",
            "Digite o segundo número: 5\n",
            "O resultado é:  4\n"
          ]
        }
      ]
    },
    {
      "cell_type": "markdown",
      "source": [
        "**33. Python avançado: list comprehension**"
      ],
      "metadata": {
        "id": "_xS-zH1nfRR0"
      }
    },
    {
      "cell_type": "code",
      "source": [
        "x = [1,2,3,4,5]\n",
        "y = []\n",
        "\n",
        "for i in x:\n",
        "  y.append(i**2)\n",
        "\n",
        "print(x)\n",
        "print(y)"
      ],
      "metadata": {
        "colab": {
          "base_uri": "https://localhost:8080/"
        },
        "id": "AbpfuSn3fVdp",
        "outputId": "6e8459c3-8114-41c3-d790-7426c1531cf4"
      },
      "execution_count": 14,
      "outputs": [
        {
          "output_type": "stream",
          "name": "stdout",
          "text": [
            "[1, 2, 3, 4, 5]\n",
            "[1, 4, 9, 16, 25]\n"
          ]
        }
      ]
    },
    {
      "cell_type": "code",
      "source": [
        "x = [1,2,3,4,5]\n",
        "y = [i**2 for i in x]\n",
        "\n",
        "print(\"Usando list comprehension\")\n",
        "print(x)\n",
        "print(y)"
      ],
      "metadata": {
        "colab": {
          "base_uri": "https://localhost:8080/"
        },
        "id": "N6t9FvnYnwk1",
        "outputId": "1473f25a-a8e7-425d-b12b-464904e1675d"
      },
      "execution_count": 16,
      "outputs": [
        {
          "output_type": "stream",
          "name": "stdout",
          "text": [
            "Usando list comprehension\n",
            "[1, 2, 3, 4, 5]\n",
            "[1, 4, 9, 16, 25]\n"
          ]
        }
      ]
    },
    {
      "cell_type": "code",
      "source": [
        "x = [1,2,3,4,5]\n",
        "z = [i for i in x if i%2==1]\n",
        "\n",
        "print(z)"
      ],
      "metadata": {
        "colab": {
          "base_uri": "https://localhost:8080/"
        },
        "id": "Hi2MWS-Iq_Ll",
        "outputId": "a2de45fc-fd4e-4566-db52-5e5db82d26bd"
      },
      "execution_count": 19,
      "outputs": [
        {
          "output_type": "stream",
          "name": "stdout",
          "text": [
            "[1, 3, 5]\n"
          ]
        }
      ]
    },
    {
      "cell_type": "markdown",
      "source": [
        "**34. Python avançado: função enumerate**"
      ],
      "metadata": {
        "id": "5pa9O74UrqkE"
      }
    },
    {
      "cell_type": "code",
      "source": [
        "lista = [\"abacete\",\"bola\",\"cachorro\"]\n",
        "\n",
        "for i in lista:\n",
        "  print(i)"
      ],
      "metadata": {
        "colab": {
          "base_uri": "https://localhost:8080/"
        },
        "id": "WgvmFV1arr0w",
        "outputId": "6e650dc1-f543-466c-ae35-8445448b6488"
      },
      "execution_count": 20,
      "outputs": [
        {
          "output_type": "stream",
          "name": "stdout",
          "text": [
            "abacete\n",
            "bola\n",
            "cachorro\n"
          ]
        }
      ]
    },
    {
      "cell_type": "code",
      "source": [
        "lista = [\"abacete\",\"bola\",\"cachorro\"]\n",
        "\n",
        "for i in range(len(lista)):\n",
        "  print(i, lista[i])"
      ],
      "metadata": {
        "colab": {
          "base_uri": "https://localhost:8080/"
        },
        "id": "cj6swYAyr4rb",
        "outputId": "5d24eb71-73f4-4799-8977-96840777de2d"
      },
      "execution_count": 21,
      "outputs": [
        {
          "output_type": "stream",
          "name": "stdout",
          "text": [
            "0 abacete\n",
            "1 bola\n",
            "2 cachorro\n"
          ]
        }
      ]
    },
    {
      "cell_type": "code",
      "source": [
        "lista = [\"abacete\",\"bola\",\"cachorro\"]\n",
        "\n",
        "for i, nome in enumerate(lista):\n",
        "  print(i, nome)"
      ],
      "metadata": {
        "colab": {
          "base_uri": "https://localhost:8080/"
        },
        "id": "eZNIcFqjsBV-",
        "outputId": "18496441-5cf3-4758-9928-a23b1270b51c"
      },
      "execution_count": 22,
      "outputs": [
        {
          "output_type": "stream",
          "name": "stdout",
          "text": [
            "0 abacete\n",
            "1 bola\n",
            "2 cachorro\n"
          ]
        }
      ]
    },
    {
      "cell_type": "markdown",
      "source": [
        "**35. Python avançado: função map**"
      ],
      "metadata": {
        "id": "bcd5HOF0sdE4"
      }
    },
    {
      "cell_type": "code",
      "source": [
        "def dobro(x):\n",
        "  return x*2\n",
        "\n",
        "valor = [1,2,3,4,5]\n",
        "\n",
        "valor_dobrado = map(dobro, valor)\n",
        "\n",
        "valor_dobrado = list(valor_dobrado)\n",
        "\n",
        "print(valor_dobrado)"
      ],
      "metadata": {
        "colab": {
          "base_uri": "https://localhost:8080/"
        },
        "id": "cHwZryk2seWk",
        "outputId": "f541a847-2672-4660-ca89-3016fea79b84"
      },
      "execution_count": 23,
      "outputs": [
        {
          "output_type": "stream",
          "name": "stdout",
          "text": [
            "[2, 4, 6, 8, 10]\n"
          ]
        }
      ]
    },
    {
      "cell_type": "markdown",
      "source": [
        "**36. Python avançado: função reduce**"
      ],
      "metadata": {
        "id": "CKrEPRdD0y7b"
      }
    },
    {
      "cell_type": "code",
      "source": [
        "from functools import reduce\n",
        "\n",
        "def soma(x,y):\n",
        "  return x+y\n",
        "\n",
        "lista = [1,3,5,10,20]\n",
        "\n",
        "soma = reduce(soma, lista)\n",
        "\n",
        "print(soma)"
      ],
      "metadata": {
        "colab": {
          "base_uri": "https://localhost:8080/"
        },
        "id": "UA5a2RpQ00BL",
        "outputId": "50868c24-96c9-480f-88dc-51da2a8f9e15"
      },
      "execution_count": 24,
      "outputs": [
        {
          "output_type": "stream",
          "name": "stdout",
          "text": [
            "39\n"
          ]
        }
      ]
    },
    {
      "cell_type": "markdown",
      "source": [
        "**37. Python avançado: função zip**"
      ],
      "metadata": {
        "id": "jFZQFgm28HPu"
      }
    },
    {
      "cell_type": "code",
      "source": [
        "lista1 = [1,2,3,4,5]\n",
        "lista2 = [\"abacate\",\"cenoura\",\"cebola\",\"pimentão\",\"limão\"]\n",
        "lista3 = [\"R$ 2,50\",\"R$ 3,25\",\"R$ 1,50\",\"R$ 4,15\",\"R$ 0,99\"]\n",
        "\n",
        "for numero, nome, valor in zip(lista1, lista2, lista3):\n",
        "  print(numero, nome, valor)"
      ],
      "metadata": {
        "colab": {
          "base_uri": "https://localhost:8080/"
        },
        "id": "oSYtHz6f8I3n",
        "outputId": "a15a6ef8-d73f-4842-90e7-6db4b2903b1a"
      },
      "execution_count": 26,
      "outputs": [
        {
          "output_type": "stream",
          "name": "stdout",
          "text": [
            "1 abacate R$ 2,50\n",
            "2 cenoura R$ 3,25\n",
            "3 cebola R$ 1,50\n",
            "4 pimentão R$ 4,15\n",
            "5 limão R$ 0,99\n"
          ]
        }
      ]
    },
    {
      "cell_type": "code",
      "source": [
        "lista = [1,2,3,4,5,6,7,8,9,10]\n",
        "lista2 = []\n",
        "\n",
        "def dobro(i):\n",
        "  if i%2==0:\n",
        "    return i\n",
        "\n",
        "lista2 = [i%2 for i in lista]\n",
        "print(lista2)"
      ],
      "metadata": {
        "colab": {
          "base_uri": "https://localhost:8080/"
        },
        "id": "wcyvfe4iA9To",
        "outputId": "476931bd-be7c-449c-e82d-e81d73784a2a"
      },
      "execution_count": 29,
      "outputs": [
        {
          "output_type": "stream",
          "name": "stdout",
          "text": [
            "[1, 0, 1, 0, 1, 0, 1, 0, 1, 0]\n"
          ]
        }
      ]
    },
    {
      "cell_type": "code",
      "source": [
        "lista = [1,2,3,4,5,6,7,8,9,10]\n",
        "lista2 = []\n",
        "\n",
        "def dobro(i):\n",
        "  if i%2==0:\n",
        "    return i\n",
        "\n",
        "lista2 = filter(dobro, lista)\n",
        "print(lista2)"
      ],
      "metadata": {
        "colab": {
          "base_uri": "https://localhost:8080/"
        },
        "id": "hgFVUcoiCAW0",
        "outputId": "68ef6875-f0ef-42ac-9686-93b6699a7428"
      },
      "execution_count": 33,
      "outputs": [
        {
          "output_type": "stream",
          "name": "stdout",
          "text": [
            "<filter object at 0x7910e5b71360>\n"
          ]
        }
      ]
    },
    {
      "cell_type": "code",
      "source": [
        "x = [1, 2, 3]\n",
        "y = [i for i in x if i % 2 == 0]\n",
        "\n",
        "print(y)"
      ],
      "metadata": {
        "colab": {
          "base_uri": "https://localhost:8080/"
        },
        "id": "VYyTyowuDUyS",
        "outputId": "49b7f783-f655-418e-8f1d-ad895b0861a9"
      },
      "execution_count": 34,
      "outputs": [
        {
          "output_type": "stream",
          "name": "stdout",
          "text": [
            "[2]\n"
          ]
        }
      ]
    }
  ]
}